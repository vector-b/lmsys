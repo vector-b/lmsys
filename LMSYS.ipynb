{
 "cells": [
  {
   "cell_type": "markdown",
   "metadata": {},
   "source": [
    "## Imports"
   ]
  },
  {
   "cell_type": "code",
   "execution_count": 17,
   "metadata": {},
   "outputs": [],
   "source": [
    "import pandas as pd\n",
    "import torch\n",
    "from transformers import BertTokenizer, BertForSequenceClassification\n",
    "import matplotlib.pyplot as plt\n",
    "import seaborn as sns\n",
    "import json"
   ]
  },
  {
   "cell_type": "markdown",
   "metadata": {},
   "source": [
    "## EDA - Basic"
   ]
  },
  {
   "cell_type": "code",
   "execution_count": 18,
   "metadata": {},
   "outputs": [],
   "source": [
    "df = pd.read_csv('data/train.csv')"
   ]
  },
  {
   "cell_type": "code",
   "execution_count": 19,
   "metadata": {},
   "outputs": [
    {
     "data": {
      "text/plain": [
       "Index(['id', 'model_a', 'model_b', 'prompt', 'response_a', 'response_b',\n",
       "       'winner_model_a', 'winner_model_b', 'winner_tie'],\n",
       "      dtype='object')"
      ]
     },
     "execution_count": 19,
     "metadata": {},
     "output_type": "execute_result"
    }
   ],
   "source": [
    "df.columns"
   ]
  },
  {
   "cell_type": "code",
   "execution_count": 20,
   "metadata": {},
   "outputs": [
    {
     "data": {
      "image/png": "[encoded data removed]",
      "text/plain": [
       "<Figure size 640x480 with 1 Axes>"
      ]
     },
     "metadata": {},
     "output_type": "display_data"
    }
   ],
   "source": [
    "sns.set(style='whitegrid')\n",
    "sns.barplot(x=['winner_model_a', 'winner_model_b', 'winner_tie'], y=[df['winner_model_a'].sum(), df['winner_model_b'].sum(), df['winner_tie'].sum()])\n",
    "plt.title('Winners by model')\n",
    "plt.show()"
   ]
  },
  {
   "cell_type": "markdown",
   "metadata": {},
   "source": [
    "## Possible Models"
   ]
  },
  {
   "cell_type": "markdown",
   "metadata": {},
   "source": [
    "In this notebook, we are using BERT for the classification task. BERT is a transformer-based model that has been pre-trained on a large corpus of text data. We will use the pre-trained BERT model and fine-tune it on our dataset.\n",
    "\n",
    "First we need to fix the data and get the tokens for the BERT model =)"
   ]
  },
  {
   "cell_type": "markdown",
   "metadata": {},
   "source": [
    "### Concat the Question and Answer for each model"
   ]
  },
  {
   "cell_type": "markdown",
   "metadata": {},
   "source": [
    "Here we supposed to contextualize each question with its corresponding answer. This is done by concatenating the question and the answer. But there's a little problem, each prompt can have multiple answers, so we should concatenate all the answers for each prompt - response in each row."
   ]
  },
  {
   "cell_type": "code",
   "execution_count": 21,
   "metadata": {},
   "outputs": [],
   "source": [
    "def concat_qa(row, response_column):\n",
    "    question = row.get('prompt', '')\n",
    "    answer = row.get(response_column, '')\n",
    "\n",
    "    if question is None:\n",
    "        question = '[]'\n",
    "    if answer is None:\n",
    "        answer = '[]'\n",
    "\n",
    "    try:\n",
    "        question = json.loads(question)\n",
    "        answer = json.loads(answer)\n",
    "    except json.JSONDecodeError as e:\n",
    "        print(f\"Erro ao decodificar JSON: {e}\")\n",
    "        return []\n",
    "    except TypeError as e:\n",
    "        print(f\"Erro ao converter tipos: {e}\")\n",
    "        return []\n",
    "\n",
    "    qa_list = []\n",
    "\n",
    "    if not isinstance(question, list) or not isinstance(answer, list):\n",
    "        print(\"Erro: question ou answer não são listas.\")\n",
    "        return []\n",
    "\n",
    "    for item in range(len(question)):\n",
    "        try:\n",
    "            if item < len(answer) and isinstance(answer[item], str) and answer[item].strip():\n",
    "                qa = question[item] + ' ' + answer[item]\n",
    "            else:\n",
    "                qa = question[item]\n",
    "        except (IndexError, TypeError) as e:\n",
    "            print(f\"Erro accessing {item}: {e}\")\n",
    "            qa = question[item] if item < len(question) else ''\n",
    "        qa_list.append(qa)\n",
    "    return qa_list"
   ]
  },
  {
   "cell_type": "code",
   "execution_count": 22,
   "metadata": {},
   "outputs": [],
   "source": [
    "df['qa_model_a'] = df.apply(lambda row: concat_qa(row, 'response_a'), axis=1)\n",
    "df['qa_model_b'] = df.apply(lambda row: concat_qa(row, 'response_a'), axis=1)"
   ]
  },
  {
   "cell_type": "markdown",
   "metadata": {},
   "source": [
    "Now we need to EXPLODE the lists inside the Question + Answer columns"
   ]
  },
  {
   "cell_type": "code",
   "execution_count": 23,
   "metadata": {},
   "outputs": [],
   "source": [
    "df = df[['id','qa_model_a', 'qa_model_b', 'winner_model_a', 'winner_model_b', 'winner_tie']].apply(pd.Series.explode).reset_index(drop=True)"
   ]
  },
  {
   "cell_type": "markdown",
   "metadata": {},
   "source": [
    "## Tokenization"
   ]
  },
  {
   "cell_type": "code",
   "execution_count": 24,
   "metadata": {},
   "outputs": [],
   "source": [
    "tokenizer = BertTokenizer.from_pretrained('bert-base-uncased')\n",
    "\n",
    "def tokenize_columns(row, tokenizer):\n",
    "\n",
    "    #LIMIT TOKENIZER LENGTH TO 512!!!!!!!!!!!!!!!!!!!!!!!\n",
    "\n",
    "    tokens_a= tokenizer.encode_plus(row['qa_model_a'], add_special_tokens=False)\n",
    "    tokens_b = tokenizer.encode_plus(row['qa_model_b'], add_special_tokens=False)\n",
    "    \n",
    "    input_ids = tokenizer.build_inputs_with_special_tokens(tokens_a['input_ids'] + tokens_b['input_ids'])\n",
    "    \n",
    "    #Add attention_masks later ?\n",
    "    return input_ids"
   ]
  },
  {
   "cell_type": "code",
   "execution_count": 25,
   "metadata": {},
   "outputs": [
    {
     "name": "stderr",
     "output_type": "stream",
     "text": [
      "Token indices sequence length is longer than the specified maximum sequence length for this model (565 > 512). Running this sequence through the model will result in indexing errors\n"
     ]
    }
   ],
   "source": [
    "df['tokens'] = df.apply(lambda row: tokenize_columns(row, tokenizer), axis=1)"
   ]
  },
  {
   "cell_type": "code",
   "execution_count": 26,
   "metadata": {},
   "outputs": [
    {
     "data": {
      "text/html": [
       "<div>\n",
       "<style scoped>\n",
       "    .dataframe tbody tr th:only-of-type {\n",
       "        vertical-align: middle;\n",
       "    }\n",
       "\n",
       "    .dataframe tbody tr th {\n",
       "        vertical-align: top;\n",
       "    }\n",
       "\n",
       "    .dataframe thead th {\n",
       "        text-align: right;\n",
       "    }\n",
       "</style>\n",
       "<table border=\"1\" class=\"dataframe\">\n",
       "  <thead>\n",
       "    <tr style=\"text-align: right;\">\n",
       "      <th></th>\n",
       "      <th>id</th>\n",
       "      <th>qa_model_a</th>\n",
       "      <th>qa_model_b</th>\n",
       "      <th>winner_model_a</th>\n",
       "      <th>winner_model_b</th>\n",
       "      <th>winner_tie</th>\n",
       "      <th>tokens</th>\n",
       "    </tr>\n",
       "  </thead>\n",
       "  <tbody>\n",
       "    <tr>\n",
       "      <th>0</th>\n",
       "      <td>30192</td>\n",
       "      <td>Is it morally right to try to have a certain p...</td>\n",
       "      <td>Is it morally right to try to have a certain p...</td>\n",
       "      <td>1</td>\n",
       "      <td>0</td>\n",
       "      <td>0</td>\n",
       "      <td>[101, 2003, 2009, 28980, 2157, 2000, 3046, 200...</td>\n",
       "    </tr>\n",
       "    <tr>\n",
       "      <th>1</th>\n",
       "      <td>30192</td>\n",
       "      <td>OK, does pineapple belong on a pizza? Relax an...</td>\n",
       "      <td>OK, does pineapple belong on a pizza? Relax an...</td>\n",
       "      <td>1</td>\n",
       "      <td>0</td>\n",
       "      <td>0</td>\n",
       "      <td>[101, 7929, 1010, 2515, 7222, 23804, 7141, 200...</td>\n",
       "    </tr>\n",
       "    <tr>\n",
       "      <th>2</th>\n",
       "      <td>53567</td>\n",
       "      <td>What is the difference between marriage licens...</td>\n",
       "      <td>What is the difference between marriage licens...</td>\n",
       "      <td>0</td>\n",
       "      <td>1</td>\n",
       "      <td>0</td>\n",
       "      <td>[101, 2054, 2003, 1996, 4489, 2090, 3510, 6105...</td>\n",
       "    </tr>\n",
       "    <tr>\n",
       "      <th>3</th>\n",
       "      <td>53567</td>\n",
       "      <td>How can I get both of them as quick as possibl...</td>\n",
       "      <td>How can I get both of them as quick as possibl...</td>\n",
       "      <td>0</td>\n",
       "      <td>1</td>\n",
       "      <td>0</td>\n",
       "      <td>[101, 2129, 2064, 1045, 2131, 2119, 1997, 2068...</td>\n",
       "    </tr>\n",
       "    <tr>\n",
       "      <th>4</th>\n",
       "      <td>53567</td>\n",
       "      <td>What is the minimal time to get them? 1 day or...</td>\n",
       "      <td>What is the minimal time to get them? 1 day or...</td>\n",
       "      <td>0</td>\n",
       "      <td>1</td>\n",
       "      <td>0</td>\n",
       "      <td>[101, 2054, 2003, 1996, 10124, 2051, 2000, 213...</td>\n",
       "    </tr>\n",
       "    <tr>\n",
       "      <th>5</th>\n",
       "      <td>65089</td>\n",
       "      <td>explain function calling. how would you call a...</td>\n",
       "      <td>explain function calling. how would you call a...</td>\n",
       "      <td>0</td>\n",
       "      <td>0</td>\n",
       "      <td>1</td>\n",
       "      <td>[101, 4863, 3853, 4214, 1012, 2129, 2052, 2017...</td>\n",
       "    </tr>\n",
       "    <tr>\n",
       "      <th>6</th>\n",
       "      <td>96401</td>\n",
       "      <td>How can I create a test set for a very rare ca...</td>\n",
       "      <td>How can I create a test set for a very rare ca...</td>\n",
       "      <td>1</td>\n",
       "      <td>0</td>\n",
       "      <td>0</td>\n",
       "      <td>[101, 2129, 2064, 1045, 3443, 1037, 3231, 2275...</td>\n",
       "    </tr>\n",
       "    <tr>\n",
       "      <th>7</th>\n",
       "      <td>198779</td>\n",
       "      <td>What is the best way to travel from Tel-Aviv t...</td>\n",
       "      <td>What is the best way to travel from Tel-Aviv t...</td>\n",
       "      <td>0</td>\n",
       "      <td>1</td>\n",
       "      <td>0</td>\n",
       "      <td>[101, 2054, 2003, 1996, 2190, 2126, 2000, 3604...</td>\n",
       "    </tr>\n",
       "    <tr>\n",
       "      <th>8</th>\n",
       "      <td>292873</td>\n",
       "      <td>Construct a rap battle, in the style of Epic R...</td>\n",
       "      <td>Construct a rap battle, in the style of Epic R...</td>\n",
       "      <td>0</td>\n",
       "      <td>1</td>\n",
       "      <td>0</td>\n",
       "      <td>[101, 9570, 1037, 9680, 2645, 1010, 1999, 1996...</td>\n",
       "    </tr>\n",
       "    <tr>\n",
       "      <th>9</th>\n",
       "      <td>313413</td>\n",
       "      <td>Why water is not used in bath tub? Water is ac...</td>\n",
       "      <td>Why water is not used in bath tub? Water is ac...</td>\n",
       "      <td>1</td>\n",
       "      <td>0</td>\n",
       "      <td>0</td>\n",
       "      <td>[101, 2339, 2300, 2003, 2025, 2109, 1999, 7198...</td>\n",
       "    </tr>\n",
       "  </tbody>\n",
       "</table>\n",
       "</div>"
      ],
      "text/plain": [
       "       id                                         qa_model_a  \\\n",
       "0   30192  Is it morally right to try to have a certain p...   \n",
       "1   30192  OK, does pineapple belong on a pizza? Relax an...   \n",
       "2   53567  What is the difference between marriage licens...   \n",
       "3   53567  How can I get both of them as quick as possibl...   \n",
       "4   53567  What is the minimal time to get them? 1 day or...   \n",
       "5   65089  explain function calling. how would you call a...   \n",
       "6   96401  How can I create a test set for a very rare ca...   \n",
       "7  198779  What is the best way to travel from Tel-Aviv t...   \n",
       "8  292873  Construct a rap battle, in the style of Epic R...   \n",
       "9  313413  Why water is not used in bath tub? Water is ac...   \n",
       "\n",
       "                                          qa_model_b  winner_model_a  \\\n",
       "0  Is it morally right to try to have a certain p...               1   \n",
       "1  OK, does pineapple belong on a pizza? Relax an...               1   \n",
       "2  What is the difference between marriage licens...               0   \n",
       "3  How can I get both of them as quick as possibl...               0   \n",
       "4  What is the minimal time to get them? 1 day or...               0   \n",
       "5  explain function calling. how would you call a...               0   \n",
       "6  How can I create a test set for a very rare ca...               1   \n",
       "7  What is the best way to travel from Tel-Aviv t...               0   \n",
       "8  Construct a rap battle, in the style of Epic R...               0   \n",
       "9  Why water is not used in bath tub? Water is ac...               1   \n",
       "\n",
       "   winner_model_b  winner_tie  \\\n",
       "0               0           0   \n",
       "1               0           0   \n",
       "2               1           0   \n",
       "3               1           0   \n",
       "4               1           0   \n",
       "5               0           1   \n",
       "6               0           0   \n",
       "7               1           0   \n",
       "8               1           0   \n",
       "9               0           0   \n",
       "\n",
       "                                              tokens  \n",
       "0  [101, 2003, 2009, 28980, 2157, 2000, 3046, 200...  \n",
       "1  [101, 7929, 1010, 2515, 7222, 23804, 7141, 200...  \n",
       "2  [101, 2054, 2003, 1996, 4489, 2090, 3510, 6105...  \n",
       "3  [101, 2129, 2064, 1045, 2131, 2119, 1997, 2068...  \n",
       "4  [101, 2054, 2003, 1996, 10124, 2051, 2000, 213...  \n",
       "5  [101, 4863, 3853, 4214, 1012, 2129, 2052, 2017...  \n",
       "6  [101, 2129, 2064, 1045, 3443, 1037, 3231, 2275...  \n",
       "7  [101, 2054, 2003, 1996, 2190, 2126, 2000, 3604...  \n",
       "8  [101, 9570, 1037, 9680, 2645, 1010, 1999, 1996...  \n",
       "9  [101, 2339, 2300, 2003, 2025, 2109, 1999, 7198...  "
      ]
     },
     "execution_count": 26,
     "metadata": {},
     "output_type": "execute_result"
    }
   ],
   "source": [
    "df.head(10)"
   ]
  },
  {
   "cell_type": "markdown",
   "metadata": {},
   "source": [
    "## Modelos"
   ]
  },
  {
   "cell_type": "code",
   "execution_count": 27,
   "metadata": {},
   "outputs": [],
   "source": [
    "def encoding_labels(row):\n",
    "    if row['winner_model_a'] == 1:\n",
    "        return 0\n",
    "    elif row['winner_model_b'] == 1:\n",
    "        return 1\n",
    "    elif row['winner_tie'] == 1:\n",
    "        return 2\n",
    "\n",
    "df['label'] = df.apply(lambda row: encoding_labels(row), axis=1)"
   ]
  },
  {
   "cell_type": "code",
   "execution_count": 28,
   "metadata": {},
   "outputs": [],
   "source": [
    "#..................... Ainda não implementado =("
   ]
  }
 ],
 "metadata": {
  "kernelspec": {
   "display_name": "dev",
   "language": "python",
   "name": "python3"
  },
  "language_info": {
   "codemirror_mode": {
    "name": "ipython",
    "version": 3
   },
   "file_extension": ".py",
   "mimetype": "text/x-python",
   "name": "python",
   "nbconvert_exporter": "python",
   "pygments_lexer": "ipython3",
   "version": "3.11.9"
  }
 },
 "nbformat": 4,
 "nbformat_minor": 2
}
